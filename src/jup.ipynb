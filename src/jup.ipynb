{
 "cells": [
  {
   "cell_type": "code",
   "execution_count": 2,
   "metadata": {},
   "outputs": [],
   "source": [
    "import numpy as np\n",
    "import cv2\n",
    "from keras.models import Sequential\n",
    "from keras.layers import Dense,Dropout,Flatten\n",
    "from keras.layers import Conv2D\n",
    "from keras.optimizers import Adam\n",
    "from keras.layers import MaxPooling2D\n",
    "from keras.preprocessing.image import ImageDataGenerator"
   ]
  },
  {
   "cell_type": "code",
   "execution_count": 3,
   "metadata": {},
   "outputs": [
    {
     "name": "stdout",
     "output_type": "stream",
     "text": [
      "Found 28709 images belonging to 7 classes.\n",
      "Found 7178 images belonging to 7 classes.\n"
     ]
    }
   ],
   "source": [
    "train_dir='data/train'\n",
    "val_dir='data/test'\n",
    "train_datagen=ImageDataGenerator(rescale=1./255,\n",
    "                                 rotation_range=20, # rotate images randomly up to 20 degrees\n",
    "                                  zoom_range=0.2, # zoom in up to 20%\n",
    "                                horizontal_flip=True, # flip images horizontally\n",
    "                                 width_shift_range=0.1, # shift images horizontally up to 10%\n",
    "                                 height_shift_range=0.1 # shift images vertically up to 10%\n",
    ")\n",
    "val_datagen=ImageDataGenerator(rescale=1./255)\n",
    "\n",
    "train_generator=train_datagen.flow_from_directory(\n",
    "    train_dir,\n",
    "    target_size=(48,48),\n",
    "    batch_size=64,\n",
    "    color_mode='grayscale',\n",
    "    class_mode='categorical')\n",
    "validation_generator=val_datagen.flow_from_directory(\n",
    "    val_dir,\n",
    "    target_size=(48,48),\n",
    "    batch_size=64,\n",
    "    color_mode='grayscale',\n",
    "    class_mode='categorical'\n",
    ")"
   ]
  },
  {
   "cell_type": "code",
   "execution_count": 4,
   "metadata": {},
   "outputs": [],
   "source": [
    "emotion_model=Sequential()\n",
    "emotion_model.add(Conv2D(32,kernel_size=(3,3),activation='relu',input_shape=(48,48,1)))\n",
    "emotion_model.add(Conv2D(64,kernel_size=(3,3),activation='relu'))\n",
    "emotion_model.add(MaxPooling2D(pool_size=(2,2)))\n",
    "emotion_model.add(Dropout(0.25))\n",
    "emotion_model.add(Conv2D(128,kernel_size=(3,3),activation='relu'))\n",
    "emotion_model.add(MaxPooling2D(pool_size=(2,2)))\n",
    "emotion_model.add(Conv2D(128,kernel_size=(3,3),activation='relu'))\n",
    "emotion_model.add(MaxPooling2D(pool_size=(2,2)))\n",
    "emotion_model.add(Dropout(0.25))\n",
    "emotion_model.add(Flatten())\n",
    "emotion_model.add(Dense(1024,activation='relu'))\n",
    "emotion_model.add(Dropout(0.5))\n",
    "emotion_model.add(Dense(7,activation='softmax'))"
   ]
  },
  {
   "cell_type": "code",
   "execution_count": 5,
   "metadata": {},
   "outputs": [
    {
     "name": "stdout",
     "output_type": "stream",
     "text": [
      "Epoch 1/30\n",
      "448/448 [==============================] - 443s 978ms/step - loss: 1.8020 - accuracy: 0.2600 - val_loss: 1.7178 - val_accuracy: 0.3386\n",
      "Epoch 2/30\n",
      "448/448 [==============================] - 449s 1s/step - loss: 1.6428 - accuracy: 0.3591 - val_loss: 1.5733 - val_accuracy: 0.4065\n",
      "Epoch 3/30\n",
      "448/448 [==============================] - 444s 990ms/step - loss: 1.5449 - accuracy: 0.4063 - val_loss: 1.4757 - val_accuracy: 0.4403\n",
      "Epoch 4/30\n",
      "448/448 [==============================] - 459s 1s/step - loss: 1.4705 - accuracy: 0.4334 - val_loss: 1.4186 - val_accuracy: 0.4639\n",
      "Epoch 5/30\n",
      "448/448 [==============================] - 451s 1s/step - loss: 1.4107 - accuracy: 0.4642 - val_loss: 1.3595 - val_accuracy: 0.4827\n",
      "Epoch 6/30\n",
      "448/448 [==============================] - 473s 1s/step - loss: 1.3601 - accuracy: 0.4831 - val_loss: 1.3213 - val_accuracy: 0.5089\n",
      "Epoch 7/30\n",
      "448/448 [==============================] - 504s 1s/step - loss: 1.3115 - accuracy: 0.5055 - val_loss: 1.2962 - val_accuracy: 0.5151\n",
      "Epoch 8/30\n",
      "448/448 [==============================] - 491s 1s/step - loss: 1.2715 - accuracy: 0.5211 - val_loss: 1.2497 - val_accuracy: 0.5225\n",
      "Epoch 9/30\n",
      "448/448 [==============================] - 480s 1s/step - loss: 1.2421 - accuracy: 0.5315 - val_loss: 1.2240 - val_accuracy: 0.5329\n",
      "Epoch 10/30\n",
      "448/448 [==============================] - 474s 1s/step - loss: 1.2053 - accuracy: 0.5463 - val_loss: 1.2143 - val_accuracy: 0.5370\n",
      "Epoch 11/30\n",
      "448/448 [==============================] - 473s 1s/step - loss: 1.1741 - accuracy: 0.5581 - val_loss: 1.2021 - val_accuracy: 0.5403\n",
      "Epoch 12/30\n",
      "448/448 [==============================] - 455s 1s/step - loss: 1.1499 - accuracy: 0.5695 - val_loss: 1.1676 - val_accuracy: 0.5573\n",
      "Epoch 13/30\n",
      "448/448 [==============================] - 438s 977ms/step - loss: 1.1179 - accuracy: 0.5815 - val_loss: 1.1512 - val_accuracy: 0.5646\n",
      "Epoch 14/30\n",
      "448/448 [==============================] - 468s 1s/step - loss: 1.0916 - accuracy: 0.5927 - val_loss: 1.1410 - val_accuracy: 0.5706\n",
      "Epoch 15/30\n",
      "448/448 [==============================] - 493s 1s/step - loss: 1.0704 - accuracy: 0.6020 - val_loss: 1.1336 - val_accuracy: 0.5759\n",
      "Epoch 16/30\n",
      "448/448 [==============================] - 471s 1s/step - loss: 1.0452 - accuracy: 0.6114 - val_loss: 1.1171 - val_accuracy: 0.5771\n",
      "Epoch 17/30\n",
      "448/448 [==============================] - 485s 1s/step - loss: 1.0232 - accuracy: 0.6201 - val_loss: 1.1117 - val_accuracy: 0.5820\n",
      "Epoch 18/30\n",
      "448/448 [==============================] - 516s 1s/step - loss: 0.9948 - accuracy: 0.6299 - val_loss: 1.1019 - val_accuracy: 0.5852\n",
      "Epoch 19/30\n",
      "448/448 [==============================] - 479s 1s/step - loss: 0.9743 - accuracy: 0.6384 - val_loss: 1.0932 - val_accuracy: 0.5905\n",
      "Epoch 20/30\n",
      "448/448 [==============================] - 466s 1s/step - loss: 0.9506 - accuracy: 0.6492 - val_loss: 1.1001 - val_accuracy: 0.5897\n",
      "Epoch 21/30\n",
      "448/448 [==============================] - 489s 1s/step - loss: 0.9273 - accuracy: 0.6563 - val_loss: 1.0877 - val_accuracy: 0.5960\n",
      "Epoch 22/30\n",
      "448/448 [==============================] - 484s 1s/step - loss: 0.9027 - accuracy: 0.6680 - val_loss: 1.0805 - val_accuracy: 0.5979\n",
      "Epoch 23/30\n",
      "448/448 [==============================] - 480s 1s/step - loss: 0.8793 - accuracy: 0.6747 - val_loss: 1.0735 - val_accuracy: 0.6071\n",
      "Epoch 24/30\n",
      "448/448 [==============================] - 481s 1s/step - loss: 0.8592 - accuracy: 0.6838 - val_loss: 1.0770 - val_accuracy: 0.6037\n",
      "Epoch 25/30\n",
      "448/448 [==============================] - 514s 1s/step - loss: 0.8319 - accuracy: 0.6955 - val_loss: 1.0775 - val_accuracy: 0.6126\n",
      "Epoch 26/30\n",
      "448/448 [==============================] - 523s 1s/step - loss: 0.8079 - accuracy: 0.7052 - val_loss: 1.0862 - val_accuracy: 0.6016\n",
      "Epoch 27/30\n",
      "448/448 [==============================] - 490s 1s/step - loss: 0.7786 - accuracy: 0.7156 - val_loss: 1.0816 - val_accuracy: 0.6120\n",
      "Epoch 28/30\n",
      "448/448 [==============================] - 437s 975ms/step - loss: 0.7596 - accuracy: 0.7238 - val_loss: 1.0856 - val_accuracy: 0.6035\n",
      "Epoch 29/30\n",
      "448/448 [==============================] - 278s 620ms/step - loss: 0.7380 - accuracy: 0.7296 - val_loss: 1.0802 - val_accuracy: 0.6060\n",
      "Epoch 30/30\n",
      "448/448 [==============================] - 285s 635ms/step - loss: 0.7191 - accuracy: 0.7384 - val_loss: 1.0888 - val_accuracy: 0.6076\n"
     ]
    }
   ],
   "source": [
    "emotion_model.compile(loss='categorical_crossentropy',optimizer=Adam(learning_rate=0.0001,decay=1e-6),metrics=['accuracy'])\n",
    "emotion_model_info=emotion_model.fit(\n",
    "    train_generator,\n",
    "    steps_per_epoch=28709//64,\n",
    "    epochs=30,\n",
    "    validation_data=validation_generator,\n",
    "    validation_steps=7178//64\n",
    ")"
   ]
  },
  {
   "cell_type": "code",
   "execution_count": 6,
   "metadata": {},
   "outputs": [],
   "source": [
    "emotion_model.save_weights('model.h5')\n"
   ]
  },
  {
   "cell_type": "code",
   "execution_count": 7,
   "metadata": {},
   "outputs": [],
   "source": [
    "cv2.ocl.setUseOpenCL(False)\n",
    "emotion_dict = {0: \"Angry\", 1: \"Disgusted\", 2: \"Fearful\", 3: \"Happy\", 4: \"Neutral\",5: \"Sad\" , 6: \"Surprised\"}"
   ]
  },
  {
   "cell_type": "code",
   "execution_count": 8,
   "metadata": {},
   "outputs": [],
   "source": [
    "emoji_dist={0:\"data/emojis/angry.png\",1:\"data/emojis/disgusted.png\",2:\"data/emojis/fearful.png\",3:\"data/emojis/happy.png\",4:\"data/emojis/neutral.png\",5:\"data/emojis/sad.png\",6:\"data/emojis/surpriced.png\"}"
   ]
  },
  {
   "cell_type": "code",
   "execution_count": 10,
   "metadata": {},
   "outputs": [
    {
     "name": "stdout",
     "output_type": "stream",
     "text": [
      "1/1 [==============================] - 0s 44ms/step\n",
      "1/1 [==============================] - 0s 40ms/step\n",
      "1/1 [==============================] - 0s 46ms/step\n"
     ]
    }
   ],
   "source": [
    "cap = cv2.VideoCapture(0)\n",
    "while True:\n",
    "    ret, frame = cap.read()\n",
    "    if not ret:\n",
    "        break\n",
    "   \n",
    "    \n",
    "    bounding_box = cv2.CascadeClassifier('haarcascade_frontalface_default.xml')\n",
    "    #{\n",
    "    frame = cv2.fastNlMeansDenoisingColored(frame, None, 10, 10, 7, 21)\n",
    "    frame = cv2.GaussianBlur(frame, (5, 5), 0)\n",
    "   #}\n",
    "    gray_frame = cv2.cvtColor(frame, cv2.COLOR_BGR2GRAY)\n",
    "    num_faces = bounding_box.detectMultiScale(gray_frame,scaleFactor=1.3, minNeighbors=5)\n",
    "    for (x, y, w, h) in num_faces:\n",
    "        cv2.rectangle(frame, (x, y-50), (x+w, y+h+10), (255, 0, 0), 2)\n",
    "        roi_gray_frame = gray_frame[y:y + h, x:x + w]\n",
    "        cropped_img = np.expand_dims(np.expand_dims(cv2.resize(roi_gray_frame, (48, 48)), -1), 0)\n",
    "        emotion_prediction = emotion_model.predict(cropped_img)\n",
    "        maxindex = int(np.argmax(emotion_prediction))\n",
    "        emoji_dist={0:\"data/emojis/angry.png\",1:\"data/emojis/disgusted.png\",2:\"data/emojis/fearful.png\",3:\"data/emojis/happy.png\",4:\"data/emojis/neutral.png\",5:\"data/emojis/sad.png\",6:\"data/emojis/surpriced.png\"}\n",
    "       \n",
    "       \n",
    "        image=cv2.imread(emoji_dist[maxindex])\n",
    "\n",
    "        cv2.imshow('Emojify',image)\n",
    "        emotion_dict = {0: \"Angry\", 1: \"Disgusted\", 2: \"Fearful\", 3: \"Happy\", 4: \"Neutral\", 5: \"Sad\", 6: \"Surprised\"}\n",
    "        cv2.putText(frame, emotion_dict[maxindex], (x+20, y-60), cv2.FONT_HERSHEY_SIMPLEX, 1, (255, 255, 255), 2, cv2.LINE_AA)\n",
    "    cv2.imshow('Video', cv2.resize(frame,(1200,860),interpolation = cv2.INTER_CUBIC))\n",
    "    if cv2.waitKey(1) & 0xFF == ord('q'):\n",
    "       cap.release()\n",
    "       cv2.destroyAllWindows()\n",
    "       break"
   ]
  },
  {
   "cell_type": "code",
   "execution_count": null,
   "metadata": {},
   "outputs": [],
   "source": []
  },
  {
   "cell_type": "code",
   "execution_count": null,
   "metadata": {},
   "outputs": [],
   "source": []
  },
  {
   "cell_type": "code",
   "execution_count": null,
   "metadata": {},
   "outputs": [
    {
     "name": "stdout",
     "output_type": "stream",
     "text": [
      "Model: \"sequential\"\n",
      "_________________________________________________________________\n",
      " Layer (type)                Output Shape              Param #   \n",
      "=================================================================\n",
      " conv2d (Conv2D)             (None, 46, 46, 32)        320       \n",
      "                                                                 \n",
      " conv2d_1 (Conv2D)           (None, 44, 44, 64)        18496     \n",
      "                                                                 \n",
      " max_pooling2d (MaxPooling2D  (None, 22, 22, 64)       0         \n",
      " )                                                               \n",
      "                                                                 \n",
      " dropout (Dropout)           (None, 22, 22, 64)        0         \n",
      "                                                                 \n",
      " conv2d_2 (Conv2D)           (None, 20, 20, 128)       73856     \n",
      "                                                                 \n",
      " max_pooling2d_1 (MaxPooling  (None, 10, 10, 128)      0         \n",
      " 2D)                                                             \n",
      "                                                                 \n",
      " conv2d_3 (Conv2D)           (None, 8, 8, 128)         147584    \n",
      "                                                                 \n",
      " max_pooling2d_2 (MaxPooling  (None, 4, 4, 128)        0         \n",
      " 2D)                                                             \n",
      "                                                                 \n",
      " dropout_1 (Dropout)         (None, 4, 4, 128)         0         \n",
      "                                                                 \n",
      " flatten (Flatten)           (None, 2048)              0         \n",
      "                                                                 \n",
      " dense (Dense)               (None, 1024)              2098176   \n",
      "                                                                 \n",
      " dropout_2 (Dropout)         (None, 1024)              0         \n",
      "                                                                 \n",
      " dense_1 (Dense)             (None, 7)                 7175      \n",
      "                                                                 \n",
      "=================================================================\n",
      "Total params: 2,345,607\n",
      "Trainable params: 2,345,607\n",
      "Non-trainable params: 0\n",
      "_________________________________________________________________\n"
     ]
    }
   ],
   "source": [
    "emotion_model.summary()"
   ]
  }
 ],
 "metadata": {
  "kernelspec": {
   "display_name": "Python 3",
   "language": "python",
   "name": "python3"
  },
  "language_info": {
   "codemirror_mode": {
    "name": "ipython",
    "version": 3
   },
   "file_extension": ".py",
   "mimetype": "text/x-python",
   "name": "python",
   "nbconvert_exporter": "python",
   "pygments_lexer": "ipython3",
   "version": "3.10.6"
  },
  "orig_nbformat": 4
 },
 "nbformat": 4,
 "nbformat_minor": 2
}
